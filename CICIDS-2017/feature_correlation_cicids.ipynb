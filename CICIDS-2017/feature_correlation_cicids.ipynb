{
 "cells": [
  {
   "cell_type": "code",
   "execution_count": 1,
   "id": "bb9a846e",
   "metadata": {},
   "outputs": [],
   "source": [
    "import pandas as pd\n",
    "from sklearn.feature_selection import SelectKBest, f_classif\n",
    "from sklearn.model_selection import train_test_split\n",
    "from sklearn.linear_model import LogisticRegression\n",
    "from sklearn.metrics import accuracy_score, precision_score, recall_score, f1_score, balanced_accuracy_score, matthews_corrcoef\n",
    "# Define the required columns for feature selection\n",
    "req_cols = [' Packet Length Std', ' Total Length of Bwd Packets', ' Subflow Bwd Bytes', ' Destination Port', \n",
    "            ' Packet Length Variance', ' Bwd Packet Length Mean', ' Avg Bwd Segment Size', 'Bwd Packet Length Max', \n",
    "            ' Init_Win_bytes_backward', 'Total Length of Fwd Packets', ' Subflow Fwd Bytes', 'Init_Win_bytes_forward', \n",
    "            ' Average Packet Size', ' Packet Length Mean', ' Max Packet Length',' Label']\n",
    "\n",
    "# Load the data from csv files\n",
    "fraction = 1\n",
    "frames = []\n",
    "\n",
    "for filename in ['Wednesday-workingHours.pcap_ISCX.csv', 'Tuesday-WorkingHours.pcap_ISCX.csv', \n",
    "                 'Thursday-WorkingHours-Morning-WebAttacks.pcap_ISCX.csv', 'Thursday-WorkingHours-Afternoon-Infilteration.pcap_ISCX.csv',\n",
    "                 'Monday-WorkingHours.pcap_ISCX.csv', 'Friday-WorkingHours-Morning.pcap_ISCX.csv', \n",
    "                 'Friday-WorkingHours-Afternoon-DDos.pcap_ISCX.csv', 'Friday-WorkingHours-Afternoon-PortScan.pcap_ISCX.csv']:\n",
    "    \n",
    "    df = pd.read_csv(f'cicids_db/{filename}', usecols=req_cols).sample(frac=fraction)\n",
    "    frames.append(df)\n",
    "\n",
    "df = pd.concat(frames, ignore_index=True)\n",
    "\n",
    "\n",
    "\n",
    "df_max_scaled = df.copy()\n",
    "y = df_max_scaled[' Label'].replace({'DoS GoldenEye': 'Dos/Ddos', 'DoS Hulk': 'Dos/Ddos', 'DoS Slowhttptest': 'Dos/Ddos', 'DoS slowloris': 'Dos/Ddos', 'Heartbleed': 'Dos/Ddos', 'DDoS': 'Dos/Ddos','FTP-Patator': 'Brute Force', 'SSH-Patator': 'Brute Force','Web Attack - Brute Force': 'Web Attack', 'Web Attack - Sql Injection': 'Web Attack', 'Web Attack - XSS': 'Web Attack'})\n",
    "df_max_scaled.pop(' Label')\n",
    "df_max_scaled\n",
    "for col in df_max_scaled.columns:\n",
    "    t = abs(df_max_scaled[col].max())\n",
    "    df_max_scaled[col] = df_max_scaled[col]/t\n",
    "df_max_scaled\n",
    "df = df_max_scaled.assign( Label = y)\n",
    "#df\n",
    "df = df.fillna(0)\n",
    "\n",
    "df['Init_Win_bytes_forward'] = df['Init_Win_bytes_forward'] + 1\n",
    "df[' Init_Win_bytes_backward'] = df[' Init_Win_bytes_backward'] + 1\n",
    "\n",
    "df['Init_Win_bytes_forward'] = df['Init_Win_bytes_forward']/df['Init_Win_bytes_forward'].max()\n",
    "df[' Init_Win_bytes_backward'] = df[' Init_Win_bytes_backward']/df[' Init_Win_bytes_backward'].max()\n",
    "\n",
    "\n",
    "\n",
    "\n",
    "# # Split the data into training and testing sets\n",
    "# X_train, X_test, y_train, y_test = train_test_split(df.drop(columns=['Label']), df['Label'], test_size=0.2, random_state=42)\n",
    "\n",
    "\n",
    "\n"
   ]
  },
  {
   "cell_type": "code",
   "execution_count": 2,
   "id": "8e3db7dc",
   "metadata": {},
   "outputs": [],
   "source": [
    "target = 'Label'\n",
    "df[target] , label = pd.factorize(df[target])"
   ]
  },
  {
   "cell_type": "code",
   "execution_count": 3,
   "id": "2e837905",
   "metadata": {},
   "outputs": [
    {
     "name": "stdout",
     "output_type": "stream",
     "text": [
      "Index(['Init_Win_bytes_forward', ' Init_Win_bytes_backward',\n",
      "       ' Packet Length Variance', 'Bwd Packet Length Max',\n",
      "       ' Packet Length Std', ' Destination Port', ' Bwd Packet Length Mean',\n",
      "       ' Avg Bwd Segment Size', ' Max Packet Length', ' Subflow Fwd Bytes'],\n",
      "      dtype='object')\n"
     ]
    }
   ],
   "source": [
    "# Create a correlation matrix between each feature and the target variable\n",
    "corr_df = df.corrwith(df[target])\n",
    "corr_df = corr_df.abs().sort_values(ascending=False)\n",
    "\n",
    "# Select the top 5 features with the highest correlation with the target variable\n",
    "top_features = corr_df.index[1:11]\n",
    "print (top_features)"
   ]
  }
 ],
 "metadata": {
  "kernelspec": {
   "display_name": "Python 3 (ipykernel)",
   "language": "python",
   "name": "python3"
  },
  "language_info": {
   "codemirror_mode": {
    "name": "ipython",
    "version": 3
   },
   "file_extension": ".py",
   "mimetype": "text/x-python",
   "name": "python",
   "nbconvert_exporter": "python",
   "pygments_lexer": "ipython3",
   "version": "3.9.13"
  }
 },
 "nbformat": 4,
 "nbformat_minor": 5
}
